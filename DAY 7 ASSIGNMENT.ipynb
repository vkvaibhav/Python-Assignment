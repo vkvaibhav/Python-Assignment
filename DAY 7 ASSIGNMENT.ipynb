{
 "cells": [
  {
   "cell_type": "markdown",
   "metadata": {},
   "source": [
    "# Question - Write a program to create a Youtube Video Downloader"
   ]
  },
  {
   "cell_type": "code",
   "execution_count": null,
   "metadata": {},
   "outputs": [],
   "source": []
  },
  {
   "cell_type": "code",
   "execution_count": 2,
   "metadata": {},
   "outputs": [],
   "source": [
    "from pytube import YouTube   #importing youtube module\n",
    "\n",
    "from tkinter import * #used for GUI * imports every module\n",
    "\n",
    "root = Tk()\n",
    "\n",
    "root.geometry(\"400x400\")        #Mentioning the size of the downloader box\n",
    "root.title(\"Youtube video Download\")      #Mentioning the title of the downloader\n",
    "\n",
    "def youtube():   #Code for downloading and storing videos from Youtube\n",
    "    a=var.get()\n",
    "    ytvideo=Youtube(a).streams.filter(progressive=True, file_extensions='mp4').order_by('resolution').desc().first()\n",
    "    ytvideo.download(r\"D:\\Lets\")  #Giving the storage location\n",
    "    print(\"Entry box\",a)\n",
    "                     \n",
    "\n",
    "l1= Label(root,text=\"Youtube video link\", fg=\"red\", font=(\"bold\",20)) #Asking the video link from the user\n",
    "l1.place(x=30,y=20)\n",
    "\n",
    "var = StringVar()\n",
    "e1=Entry(root,textvariable=var,width=60)\n",
    "e1.place(x=40,y=80)\n",
    "\n",
    "\n",
    "b1 = Button(root,text = \"Download\",command=youtube,bg=\"green\",width=20,fg=\"white\")   #Creating the download button\n",
    "b1.place(x=80,y=120)\n",
    "\n",
    "\n",
    "root.mainloop()"
   ]
  },
  {
   "cell_type": "code",
   "execution_count": null,
   "metadata": {},
   "outputs": [],
   "source": []
  }
 ],
 "metadata": {
  "kernelspec": {
   "display_name": "Python 3",
   "language": "python",
   "name": "python3"
  },
  "language_info": {
   "codemirror_mode": {
    "name": "ipython",
    "version": 3
   },
   "file_extension": ".py",
   "mimetype": "text/x-python",
   "name": "python",
   "nbconvert_exporter": "python",
   "pygments_lexer": "ipython3",
   "version": "3.8.5"
  }
 },
 "nbformat": 4,
 "nbformat_minor": 4
}
