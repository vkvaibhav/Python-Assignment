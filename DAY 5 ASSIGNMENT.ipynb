{
 "cells": [
  {
   "cell_type": "markdown",
   "metadata": {},
   "source": [
    "# Question - Do the project - Develop a Cryptography app in python and Upload it in Github."
   ]
  },
  {
   "cell_type": "code",
   "execution_count": null,
   "metadata": {},
   "outputs": [],
   "source": []
  },
  {
   "cell_type": "code",
   "execution_count": 3,
   "metadata": {},
   "outputs": [],
   "source": [
    "from cryptography.fernet import Fernet      #Importing modules"
   ]
  },
  {
   "cell_type": "code",
   "execution_count": 4,
   "metadata": {},
   "outputs": [],
   "source": [
    "def genratePassKey():                       #Generating Password Key\n",
    "    key=Fernet.generate_key()\n",
    "    print(key)\n",
    "    print(type(key))\n",
    "    abc=open(\"Password.key\",'wb')           #key will be in bytes so wb for binary writing\n",
    "    abc.write(key)\n",
    "    abc.close()"
   ]
  },
  {
   "cell_type": "code",
   "execution_count": 5,
   "metadata": {},
   "outputs": [],
   "source": [
    "def getMyKey():                             #Getting Key\n",
    "    abc=open(\"Password.key\",'rb')\n",
    "    return abc.read()"
   ]
  },
  {
   "cell_type": "code",
   "execution_count": 6,
   "metadata": {},
   "outputs": [],
   "source": [
    "def encryptMessage(message_normal):         #Creating Function to Encrypt Message\n",
    "    key=getMyKey()\n",
    "    k=Fernet(key)\n",
    "    encrypted_message=k.encrypt(message_normal)\n",
    "    return encrypted_message"
   ]
  },
  {
   "cell_type": "code",
   "execution_count": 7,
   "metadata": {},
   "outputs": [],
   "source": [
    "def decryptMessage(message_secret):         #Creating Function to Decrypt Message\n",
    "    key=getMyKey()\n",
    "    k=Fernet(key)\n",
    "    decrypted_message=k.decrypt(message_secret)\n",
    "    return decrypted_message"
   ]
  },
  {
   "cell_type": "code",
   "execution_count": 8,
   "metadata": {},
   "outputs": [
    {
     "name": "stdout",
     "output_type": "stream",
     "text": [
      "b'1JKlzXsNI08kYA7LPX6DvcbHNLqquVSdRB8V3DvqY10='\n",
      "<class 'bytes'>\n"
     ]
    }
   ],
   "source": [
    "genratePassKey()"
   ]
  },
  {
   "cell_type": "code",
   "execution_count": 9,
   "metadata": {},
   "outputs": [
    {
     "data": {
      "text/plain": [
       "b'1JKlzXsNI08kYA7LPX6DvcbHNLqquVSdRB8V3DvqY10='"
      ]
     },
     "execution_count": 9,
     "metadata": {},
     "output_type": "execute_result"
    }
   ],
   "source": [
    "getMyKey()"
   ]
  },
  {
   "cell_type": "code",
   "execution_count": 10,
   "metadata": {},
   "outputs": [
    {
     "data": {
      "text/plain": [
       "b'gAAAAABf2971kFlWBU2vmwlWAo5Rm354OuCMes9NR8ZsxqQxZRisADa7wGm27tZZNa7tTEdJNGraxeWM5Cnq9-rRKeQXUpjv-4pT5qE25i7iZRqNrT7Q7t8='"
      ]
     },
     "execution_count": 10,
     "metadata": {},
     "output_type": "execute_result"
    }
   ],
   "source": [
    "encryptMessage(b\"Hey My name is Vaibhav\")    #b cause of bytes"
   ]
  },
  {
   "cell_type": "code",
   "execution_count": 12,
   "metadata": {},
   "outputs": [
    {
     "data": {
      "text/plain": [
       "b'Hey My name is Vaibhav'"
      ]
     },
     "execution_count": 12,
     "metadata": {},
     "output_type": "execute_result"
    }
   ],
   "source": [
    "decryptMessage(b'gAAAAABf2971kFlWBU2vmwlWAo5Rm354OuCMes9NR8ZsxqQxZRisADa7wGm27tZZNa7tTEdJNGraxeWM5Cnq9-rRKeQXUpjv-4pT5qE25i7iZRqNrT7Q7t8=')"
   ]
  },
  {
   "cell_type": "code",
   "execution_count": null,
   "metadata": {},
   "outputs": [],
   "source": []
  }
 ],
 "metadata": {
  "kernelspec": {
   "display_name": "Python 3",
   "language": "python",
   "name": "python3"
  },
  "language_info": {
   "codemirror_mode": {
    "name": "ipython",
    "version": 3
   },
   "file_extension": ".py",
   "mimetype": "text/x-python",
   "name": "python",
   "nbconvert_exporter": "python",
   "pygments_lexer": "ipython3",
   "version": "3.8.5"
  }
 },
 "nbformat": 4,
 "nbformat_minor": 4
}
