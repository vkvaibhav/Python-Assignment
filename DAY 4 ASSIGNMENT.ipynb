{
 "cells": [
  {
   "cell_type": "markdown",
   "metadata": {},
   "source": [
    "# Question 1 - Write down a program in Python for Opening a File and Write \" I Love LetsUpgrade\" and close it and read id back again, and then append some data to it and close it."
   ]
  },
  {
   "cell_type": "code",
   "execution_count": null,
   "metadata": {},
   "outputs": [],
   "source": []
  },
  {
   "cell_type": "code",
   "execution_count": 18,
   "metadata": {},
   "outputs": [],
   "source": [
    "new = open(\"vaibhav.txt\",'w')                                  #Creating a file \n",
    "new.write(\"I Love LetsUpgrade. \")                              #Writing some content in file\n",
    "new.close()                                                    #closing the file"
   ]
  },
  {
   "cell_type": "code",
   "execution_count": 19,
   "metadata": {},
   "outputs": [
    {
     "data": {
      "text/plain": [
       "'I Love LetsUpgrade. '"
      ]
     },
     "execution_count": 19,
     "metadata": {},
     "output_type": "execute_result"
    }
   ],
   "source": [
    "new = open(\"vaibhav.txt\",'r')                                  #Opening a file in read mode\n",
    "c=new.read()                                                   #Storing the contents of file in local variable\n",
    "new.close()                                                    #Closing the file\n",
    "c                                                              #Displaying the contents of file"
   ]
  },
  {
   "cell_type": "code",
   "execution_count": 20,
   "metadata": {},
   "outputs": [],
   "source": [
    "new = open(\"vaibhav.txt\",'a')                                  #Opening a file in append mode\n",
    "new.write(\"Learning from LetsUpgrade is fun.\")                 #Appending some content in the file\n",
    "new.close()                                                    #Closing the file"
   ]
  },
  {
   "cell_type": "code",
   "execution_count": 21,
   "metadata": {},
   "outputs": [
    {
     "data": {
      "text/plain": [
       "'I Love LetsUpgrade. Learning from LetsUpgrade is fun.'"
      ]
     },
     "execution_count": 21,
     "metadata": {},
     "output_type": "execute_result"
    }
   ],
   "source": [
    "new = open(\"vaibhav.txt\",'r')                                  #Opening a file in read mode\n",
    "d=new.read()                                                   #Storing the contents of file in local variable\n",
    "new.close()                                                    #Closing the file\n",
    "d                                                              #Displaying the contents of file"
   ]
  },
  {
   "cell_type": "code",
   "execution_count": null,
   "metadata": {},
   "outputs": [],
   "source": []
  },
  {
   "cell_type": "code",
   "execution_count": null,
   "metadata": {},
   "outputs": [],
   "source": []
  },
  {
   "cell_type": "markdown",
   "metadata": {},
   "source": [
    "# Question 2 - Write a function which can return a Factorial of any number as int, given in the argument."
   ]
  },
  {
   "cell_type": "code",
   "execution_count": null,
   "metadata": {},
   "outputs": [],
   "source": []
  },
  {
   "cell_type": "code",
   "execution_count": 67,
   "metadata": {},
   "outputs": [
    {
     "name": "stdout",
     "output_type": "stream",
     "text": [
      "Enter Any Number : 5\n",
      "Factorial of the given number is :  120\n"
     ]
    }
   ],
   "source": [
    "num=int(input(\"Enter Any Number : \"))                  #Asking the user to input any number\n",
    "f=1\n",
    "def fact(n):                                           #Creating a function to calculate factorial\n",
    "    if n==1:\n",
    "        return n\n",
    "    else:\n",
    "        return n*fact(n-1)\n",
    "    \n",
    "print(\"Factorial of the given number is : \",fact(num)) #Displaying factorial of the given number"
   ]
  },
  {
   "cell_type": "code",
   "execution_count": null,
   "metadata": {},
   "outputs": [],
   "source": []
  }
 ],
 "metadata": {
  "kernelspec": {
   "display_name": "Python 3",
   "language": "python",
   "name": "python3"
  },
  "language_info": {
   "codemirror_mode": {
    "name": "ipython",
    "version": 3
   },
   "file_extension": ".py",
   "mimetype": "text/x-python",
   "name": "python",
   "nbconvert_exporter": "python",
   "pygments_lexer": "ipython3",
   "version": "3.8.5"
  }
 },
 "nbformat": 4,
 "nbformat_minor": 4
}
