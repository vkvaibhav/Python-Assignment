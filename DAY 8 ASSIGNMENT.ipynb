{
 "cells": [
  {
   "cell_type": "markdown",
   "metadata": {},
   "source": [
    "# Question - Read and write to a real time database to a server using Firebase."
   ]
  },
  {
   "cell_type": "code",
   "execution_count": null,
   "metadata": {},
   "outputs": [],
   "source": []
  },
  {
   "cell_type": "code",
   "execution_count": 1,
   "metadata": {},
   "outputs": [
    {
     "name": "stdout",
     "output_type": "stream",
     "text": [
      "Requirement already satisfied: firebase_admin in c:\\users\\vaibhav\\anaconda3\\lib\\site-packages (4.5.0)\n",
      "Requirement already satisfied: google-api-python-client>=1.7.8 in c:\\users\\vaibhav\\anaconda3\\lib\\site-packages (from firebase_admin) (1.12.8)\n",
      "Requirement already satisfied: google-cloud-storage>=1.18.0 in c:\\users\\vaibhav\\anaconda3\\lib\\site-packages (from firebase_admin) (1.35.0)\n",
      "Requirement already satisfied: google-api-core[grpc]<2.0.0dev,>=1.14.0; platform_python_implementation != \"PyPy\" in c:\\users\\vaibhav\\anaconda3\\lib\\site-packages (from firebase_admin) (1.24.1)\n",
      "Requirement already satisfied: cachecontrol>=0.12.6 in c:\\users\\vaibhav\\anaconda3\\lib\\site-packages (from firebase_admin) (0.12.6)\n",
      "Requirement already satisfied: google-cloud-firestore>=1.4.0; platform_python_implementation != \"PyPy\" in c:\\users\\vaibhav\\anaconda3\\lib\\site-packages (from firebase_admin) (2.0.2)\n",
      "Requirement already satisfied: uritemplate<4dev,>=3.0.0 in c:\\users\\vaibhav\\anaconda3\\lib\\site-packages (from google-api-python-client>=1.7.8->firebase_admin) (3.0.1)\n",
      "Requirement already satisfied: google-auth>=1.16.0 in c:\\users\\vaibhav\\anaconda3\\lib\\site-packages (from google-api-python-client>=1.7.8->firebase_admin) (1.24.0)\n",
      "Requirement already satisfied: httplib2<1dev,>=0.15.0 in c:\\users\\vaibhav\\anaconda3\\lib\\site-packages (from google-api-python-client>=1.7.8->firebase_admin) (0.18.1)\n",
      "Requirement already satisfied: six<2dev,>=1.13.0 in c:\\users\\vaibhav\\anaconda3\\lib\\site-packages (from google-api-python-client>=1.7.8->firebase_admin) (1.15.0)\n",
      "Requirement already satisfied: google-auth-httplib2>=0.0.3 in c:\\users\\vaibhav\\anaconda3\\lib\\site-packages (from google-api-python-client>=1.7.8->firebase_admin) (0.0.4)\n",
      "Requirement already satisfied: google-cloud-core<2.0dev,>=1.4.1 in c:\\users\\vaibhav\\anaconda3\\lib\\site-packages (from google-cloud-storage>=1.18.0->firebase_admin) (1.5.0)\n",
      "Requirement already satisfied: requests<3.0.0dev,>=2.18.0 in c:\\users\\vaibhav\\anaconda3\\lib\\site-packages (from google-cloud-storage>=1.18.0->firebase_admin) (2.24.0)\n",
      "Requirement already satisfied: google-resumable-media<2.0dev,>=1.2.0 in c:\\users\\vaibhav\\anaconda3\\lib\\site-packages (from google-cloud-storage>=1.18.0->firebase_admin) (1.2.0)\n",
      "Requirement already satisfied: protobuf>=3.12.0 in c:\\users\\vaibhav\\anaconda3\\lib\\site-packages (from google-api-core[grpc]<2.0.0dev,>=1.14.0; platform_python_implementation != \"PyPy\"->firebase_admin) (3.14.0)\n",
      "Requirement already satisfied: googleapis-common-protos<2.0dev,>=1.6.0 in c:\\users\\vaibhav\\anaconda3\\lib\\site-packages (from google-api-core[grpc]<2.0.0dev,>=1.14.0; platform_python_implementation != \"PyPy\"->firebase_admin) (1.52.0)\n",
      "Requirement already satisfied: pytz in c:\\users\\vaibhav\\anaconda3\\lib\\site-packages (from google-api-core[grpc]<2.0.0dev,>=1.14.0; platform_python_implementation != \"PyPy\"->firebase_admin) (2020.1)\n",
      "Requirement already satisfied: setuptools>=34.0.0 in c:\\users\\vaibhav\\anaconda3\\lib\\site-packages (from google-api-core[grpc]<2.0.0dev,>=1.14.0; platform_python_implementation != \"PyPy\"->firebase_admin) (50.3.1.post20201107)\n",
      "Requirement already satisfied: grpcio<2.0dev,>=1.29.0; extra == \"grpc\" in c:\\users\\vaibhav\\anaconda3\\lib\\site-packages (from google-api-core[grpc]<2.0.0dev,>=1.14.0; platform_python_implementation != \"PyPy\"->firebase_admin) (1.34.0)\n",
      "Requirement already satisfied: msgpack>=0.5.2 in c:\\users\\vaibhav\\anaconda3\\lib\\site-packages (from cachecontrol>=0.12.6->firebase_admin) (1.0.0)\n",
      "Requirement already satisfied: proto-plus>=1.3.0 in c:\\users\\vaibhav\\anaconda3\\lib\\site-packages (from google-cloud-firestore>=1.4.0; platform_python_implementation != \"PyPy\"->firebase_admin) (1.13.0)\n",
      "Requirement already satisfied: pyasn1-modules>=0.2.1 in c:\\users\\vaibhav\\anaconda3\\lib\\site-packages (from google-auth>=1.16.0->google-api-python-client>=1.7.8->firebase_admin) (0.2.8)\n",
      "Requirement already satisfied: rsa<5,>=3.1.4; python_version >= \"3.6\" in c:\\users\\vaibhav\\anaconda3\\lib\\site-packages (from google-auth>=1.16.0->google-api-python-client>=1.7.8->firebase_admin) (4.6)\n",
      "Requirement already satisfied: cachetools<5.0,>=2.0.0 in c:\\users\\vaibhav\\anaconda3\\lib\\site-packages (from google-auth>=1.16.0->google-api-python-client>=1.7.8->firebase_admin) (4.2.0)\n",
      "Requirement already satisfied: idna<3,>=2.5 in c:\\users\\vaibhav\\anaconda3\\lib\\site-packages (from requests<3.0.0dev,>=2.18.0->google-cloud-storage>=1.18.0->firebase_admin) (2.10)\n",
      "Requirement already satisfied: urllib3!=1.25.0,!=1.25.1,<1.26,>=1.21.1 in c:\\users\\vaibhav\\anaconda3\\lib\\site-packages (from requests<3.0.0dev,>=2.18.0->google-cloud-storage>=1.18.0->firebase_admin) (1.25.11)\n",
      "Requirement already satisfied: certifi>=2017.4.17 in c:\\users\\vaibhav\\anaconda3\\lib\\site-packages (from requests<3.0.0dev,>=2.18.0->google-cloud-storage>=1.18.0->firebase_admin) (2020.6.20)\n",
      "Requirement already satisfied: chardet<4,>=3.0.2 in c:\\users\\vaibhav\\anaconda3\\lib\\site-packages (from requests<3.0.0dev,>=2.18.0->google-cloud-storage>=1.18.0->firebase_admin) (3.0.4)\n",
      "Requirement already satisfied: google-crc32c<2.0dev,>=1.0; python_version >= \"3.5\" in c:\\users\\vaibhav\\anaconda3\\lib\\site-packages (from google-resumable-media<2.0dev,>=1.2.0->google-cloud-storage>=1.18.0->firebase_admin) (1.1.0)\n",
      "Requirement already satisfied: pyasn1<0.5.0,>=0.4.6 in c:\\users\\vaibhav\\anaconda3\\lib\\site-packages (from pyasn1-modules>=0.2.1->google-auth>=1.16.0->google-api-python-client>=1.7.8->firebase_admin) (0.4.8)\n"
     ]
    }
   ],
   "source": [
    "!pip install firebase_admin"
   ]
  },
  {
   "cell_type": "code",
   "execution_count": 4,
   "metadata": {},
   "outputs": [],
   "source": [
    "import firebase_admin                                        #Importing Firebase Module"
   ]
  },
  {
   "cell_type": "code",
   "execution_count": 5,
   "metadata": {},
   "outputs": [],
   "source": [
    "from firebase_admin import credentials                      #Importing credentials and Firestore\n",
    "from firebase_admin import firestore\n"
   ]
  },
  {
   "cell_type": "code",
   "execution_count": 6,
   "metadata": {},
   "outputs": [
    {
     "data": {
      "text/plain": [
       "<firebase_admin.App at 0x1a8149bcf40>"
      ]
     },
     "execution_count": 6,
     "metadata": {},
     "output_type": "execute_result"
    }
   ],
   "source": [
    "cred = credentials.Certificate(\"letsupgrade-assignment-firebase-adminsdk-kwqes-4d40e65bbc.json\") #Mentioning the private key\n",
    "firebase_admin.initialize_app(cred)"
   ]
  },
  {
   "cell_type": "code",
   "execution_count": 7,
   "metadata": {},
   "outputs": [],
   "source": [
    "db = firestore.client()                                      #Creating Database"
   ]
  },
  {
   "cell_type": "code",
   "execution_count": 8,
   "metadata": {},
   "outputs": [],
   "source": [
    "def enterDataInDB():                                         #Creating Function to enter data into Databse\n",
    "    doc_ref = db.collection(u'Homies').document()  \n",
    "    \n",
    "    name = input(\"Enter Name - \")\n",
    "    lastName = input(\"Enter Last Name - \")\n",
    "    age = int(input(\"Enter Age - \"))\n",
    "    \n",
    "    dit = {}\n",
    "    dit[\"firstName\"] = name\n",
    "    dit[\"lastName\"] = lastName\n",
    "    dit[\"age\"] = age\n",
    "    \n",
    "    doc_ref.set(dit)"
   ]
  },
  {
   "cell_type": "code",
   "execution_count": 9,
   "metadata": {},
   "outputs": [
    {
     "name": "stdout",
     "output_type": "stream",
     "text": [
      "Enter Name - Vaibhav\n",
      "Enter Last Name - Khare\n",
      "Enter Age - 24\n"
     ]
    }
   ],
   "source": [
    "enterDataInDB()"
   ]
  },
  {
   "cell_type": "code",
   "execution_count": 10,
   "metadata": {},
   "outputs": [
    {
     "name": "stdout",
     "output_type": "stream",
     "text": [
      "Enter Name - Nikhil\n",
      "Enter Last Name - Chauhan\n",
      "Enter Age - 23\n"
     ]
    }
   ],
   "source": [
    "enterDataInDB()"
   ]
  },
  {
   "cell_type": "code",
   "execution_count": 11,
   "metadata": {},
   "outputs": [
    {
     "name": "stdout",
     "output_type": "stream",
     "text": [
      "Enter Name - Rishabh\n",
      "Enter Last Name - Chaudhary\n",
      "Enter Age - 24\n"
     ]
    }
   ],
   "source": [
    "enterDataInDB()"
   ]
  },
  {
   "cell_type": "code",
   "execution_count": 12,
   "metadata": {},
   "outputs": [
    {
     "name": "stdout",
     "output_type": "stream",
     "text": [
      "Enter Name - Mayank\n",
      "Enter Last Name - Gupta\n",
      "Enter Age - 24\n"
     ]
    }
   ],
   "source": [
    "enterDataInDB()"
   ]
  },
  {
   "cell_type": "code",
   "execution_count": 13,
   "metadata": {},
   "outputs": [
    {
     "name": "stdout",
     "output_type": "stream",
     "text": [
      "ID -  6KcjKfc3TEuEZEl5kSDW\n",
      "First Name -  Vaibhav\n",
      "Last Name -  Khare\n",
      "Age -  24\n",
      "---------------\n",
      "---------------\n",
      "ID -  amBeChKdAXZHHMGpxCmu\n",
      "First Name -  Mayank\n",
      "Last Name -  Gupta\n",
      "Age -  24\n",
      "---------------\n",
      "---------------\n",
      "ID -  oHleL4f4QD3C7cQKZcoB\n",
      "First Name -  Nikhil\n",
      "Last Name -  Chauhan\n",
      "Age -  23\n",
      "---------------\n",
      "---------------\n",
      "ID -  wSlWXtHF55qaZTw9Ct3W\n",
      "First Name -  Rishabh\n",
      "Last Name -  Chaudhary\n",
      "Age -  24\n",
      "---------------\n",
      "---------------\n"
     ]
    }
   ],
   "source": [
    "docs = db.collection(u'Homies').stream()          #Getting and Displaying Data from Database\n",
    "\n",
    "for doc in docs:\n",
    "\n",
    "    \n",
    "    print(\"ID - \", doc.id)\n",
    "    \n",
    "    print(\"First Name - \", doc.to_dict().get(\"firstName\"))\n",
    "    print(\"Last Name - \", doc.to_dict().get(\"lastName\"))\n",
    "    print(\"Age - \", doc.to_dict().get(\"age\") )\n",
    "    \n",
    "    print(\"---------------\")\n",
    "    print(\"---------------\")"
   ]
  },
  {
   "cell_type": "code",
   "execution_count": null,
   "metadata": {},
   "outputs": [],
   "source": []
  }
 ],
 "metadata": {
  "kernelspec": {
   "display_name": "Python 3",
   "language": "python",
   "name": "python3"
  },
  "language_info": {
   "codemirror_mode": {
    "name": "ipython",
    "version": 3
   },
   "file_extension": ".py",
   "mimetype": "text/x-python",
   "name": "python",
   "nbconvert_exporter": "python",
   "pygments_lexer": "ipython3",
   "version": "3.8.5"
  }
 },
 "nbformat": 4,
 "nbformat_minor": 4
}
