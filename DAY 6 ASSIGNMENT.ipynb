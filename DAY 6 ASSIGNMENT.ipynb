{
 "cells": [
  {
   "cell_type": "markdown",
   "metadata": {},
   "source": [
    "# Question - Do the project - Email sending using Python."
   ]
  },
  {
   "cell_type": "code",
   "execution_count": null,
   "metadata": {},
   "outputs": [],
   "source": []
  },
  {
   "cell_type": "code",
   "execution_count": 4,
   "metadata": {},
   "outputs": [],
   "source": [
    "import emails            #Importing Email modules"
   ]
  },
  {
   "cell_type": "code",
   "execution_count": 5,
   "metadata": {},
   "outputs": [],
   "source": [
    "def sendmail(email,name):  #Creating Function to send mail\n",
    "    \n",
    "    html_text = '''<p><span style=\"font-family: comic sans ms,sans-serif; background-color: #ffcc00;\">Hey Rowdy,'''+ name +'''</span></p>\n",
    "                <p>&nbsp;</p>\n",
    "                <p><span style=\"font-family: comic sans ms,sans-serif;\">How are you???</span></p>\n",
    "                <p><span style=\"font-family: comic sans ms,sans-serif;\">&nbsp;</span></p>\n",
    "                <p><span style=\"font-family: comic sans ms,sans-serif;\">Chief Rowdy</span></p>      \n",
    "                <p><span style=\"font-family: comic sans ms,sans-serif;\">&nbsp;</span></p>\n",
    "                <p><span style=\"font-family: comic sans ms,sans-serif;\">Hope you liked this project</span></p>\n",
    "                <p><span style=\"font-family: comic sans ms,sans-serif;\">&nbsp;</span></p>\n",
    "                <p><strong><span style=\"font-family: comic sans ms,sans-serif;\">Regards</span></strong></p>\n",
    "                <p><strong><span style=\"font-family: comic sans ms,sans-serif;\">VAIBHAV KHARE</span></strong></p>'''\n",
    "    \n",
    "    subject= \"Hey rowdy \"+ name + \", Your EMAIL from Python Script \"          #Writing Subject\n",
    "    message = emails.html(html=html_text,       #Message is converted into HtML code        \n",
    "                          subject=subject,\n",
    "                          mail_from=('Rowdy Vaibhav', 'vaibhav@ceh.com'))         \n",
    "    \n",
    "    mail_via_python = message.send(to='madoji1695@94jo.com', smtp={'host': 'smtp.gmail.com', 'timeout': 5, #Mentioning Receiver's id\n",
    "                                                    'port':587,\n",
    "                                                    'user' : 'pcprateek31@gmail.com',   #Mentioning Sender's id\n",
    "                                                    'password':'Undertaker@123@',       #Mentioning Sender's password               \n",
    "                                                    'tls':True})\n",
    "    "
   ]
  },
  {
   "cell_type": "code",
   "execution_count": 6,
   "metadata": {},
   "outputs": [],
   "source": [
    "sendmail(\"madoji1695@94jo.com\",\"Vaibhav\")   #Calling the function to send email"
   ]
  },
  {
   "cell_type": "code",
   "execution_count": null,
   "metadata": {},
   "outputs": [],
   "source": []
  }
 ],
 "metadata": {
  "kernelspec": {
   "display_name": "Python 3",
   "language": "python",
   "name": "python3"
  },
  "language_info": {
   "codemirror_mode": {
    "name": "ipython",
    "version": 3
   },
   "file_extension": ".py",
   "mimetype": "text/x-python",
   "name": "python",
   "nbconvert_exporter": "python",
   "pygments_lexer": "ipython3",
   "version": "3.8.5"
  }
 },
 "nbformat": 4,
 "nbformat_minor": 4
}
